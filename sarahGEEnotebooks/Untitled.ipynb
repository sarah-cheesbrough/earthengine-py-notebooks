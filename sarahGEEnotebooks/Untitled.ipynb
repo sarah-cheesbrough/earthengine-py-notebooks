{
 "cells": [
  {
   "cell_type": "code",
   "execution_count": 1,
   "metadata": {},
   "outputs": [],
   "source": [
    "import os\n",
    "from geemap.conversion import *"
   ]
  },
  {
   "cell_type": "code",
   "execution_count": 3,
   "metadata": {},
   "outputs": [],
   "source": [
    "# Create a temporary working directory\n",
    "work_dir = os.path.join(os.path.expanduser('~'), 'geemap')\n",
    "# Get Earth Engine JavaScript examples. There are five examples in the geemap package folder. \n",
    "# Change js_dir to your own folder containing your Earth Engine JavaScripts, such as js_dir = '/path/to/your/js/folder'\n",
    "#js_dir = get_js_examples(out_dir=work_dir) \n",
    "js_dir = 'javascript_folder'\n"
   ]
  },
  {
   "cell_type": "code",
   "execution_count": 4,
   "metadata": {},
   "outputs": [
    {
     "name": "stdout",
     "output_type": "stream",
     "text": [
      "Converting Earth Engine JavaScripts to Python scripts...\n",
      "\n",
      "Processing 1/2: /home/sarah-cheesbrough/earthengine-py-notebooks/sarahGEEnotebooks/javascript_folder/locusts.js\n",
      "Processing 2/2: /home/sarah-cheesbrough/earthengine-py-notebooks/sarahGEEnotebooks/javascript_folder/.ipynb_checkpoints/locusts-checkpoint.js\n",
      "Python scripts saved at: javascript_folder\n"
     ]
    }
   ],
   "source": [
    "# Convert all Earth Engine JavaScripts in a folder recursively to Python scripts.\n",
    "js_to_python_dir(in_dir=js_dir, out_dir=js_dir, use_qgis=True)\n",
    "print(\"Python scripts saved at: {}\".format(js_dir))"
   ]
  },
  {
   "cell_type": "code",
   "execution_count": 5,
   "metadata": {},
   "outputs": [
    {
     "name": "stdout",
     "output_type": "stream",
     "text": [
      "Converting Earth Engine Python scripts to Jupyter notebooks ...\n",
      "\n",
      "Processing 1/2: /home/sarah-cheesbrough/earthengine-py-notebooks/sarahGEEnotebooks/javascript_folder/locusts_qgis.py\n",
      "\n",
      "Processing 2/2: /home/sarah-cheesbrough/earthengine-py-notebooks/sarahGEEnotebooks/javascript_folder/.ipynb_checkpoints/locusts-checkpoint_qgis.py\n",
      "\n"
     ]
    }
   ],
   "source": [
    "# Convert all Earth Engine Python scrip`ts in a folder recursively to Jupyter notebooks.\n",
    "nb_template = get_nb_template()  # Get the notebook template from the package folder.\n",
    "py_to_ipynb_dir(js_dir, nb_template)"
   ]
  },
  {
   "cell_type": "code",
   "execution_count": 6,
   "metadata": {},
   "outputs": [
    {
     "name": "stdout",
     "output_type": "stream",
     "text": [
      "Executing Earth Engine Jupyter notebooks ...\n",
      "\n",
      "Processing 1/2: /home/sarah-cheesbrough/earthengine-py-notebooks/sarahGEEnotebooks/javascript_folder/locusts.ipynb ...\n",
      "\n",
      "Processing 2/2: /home/sarah-cheesbrough/earthengine-py-notebooks/sarahGEEnotebooks/javascript_folder/.ipynb_checkpoints/locusts-checkpoint.ipynb ...\n",
      "\n"
     ]
    }
   ],
   "source": [
    "# Execute all Jupyter notebooks in a folder recursively and save the output cells.\n",
    "execute_notebook_dir(in_dir=js_dir)"
   ]
  },
  {
   "cell_type": "code",
   "execution_count": null,
   "metadata": {},
   "outputs": [],
   "source": []
  }
 ],
 "metadata": {
  "kernelspec": {
   "display_name": "Python 3",
   "language": "python",
   "name": "python3"
  },
  "language_info": {
   "codemirror_mode": {
    "name": "ipython",
    "version": 3
   },
   "file_extension": ".py",
   "mimetype": "text/x-python",
   "name": "python",
   "nbconvert_exporter": "python",
   "pygments_lexer": "ipython3",
   "version": "3.8.3"
  }
 },
 "nbformat": 4,
 "nbformat_minor": 4
}
